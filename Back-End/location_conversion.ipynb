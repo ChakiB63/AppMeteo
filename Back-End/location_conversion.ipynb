{
 "cells": [
  {
   "attachments": {},
   "cell_type": "markdown",
   "metadata": {},
   "source": [
    "FUNCTION: Converting address to coordinates"
   ]
  },
  {
   "cell_type": "code",
   "execution_count": 56,
   "metadata": {},
   "outputs": [
    {
     "name": "stdout",
     "output_type": "stream",
     "text": [
      "(33.9715904, -6.8498129) (33.5731104, -7.589843399999999)\n"
     ]
    }
   ],
   "source": [
    "import requests\n",
    "\n",
    "API_KEY = ''\n",
    "\n",
    "def getCoord(address):\n",
    "    params = {\n",
    "        'key': API_KEY,\n",
    "        'address': address.replace(' ', '+')\n",
    "    }\n",
    "\n",
    "    base_url = 'https://maps.googleapis.com/maps/api/geocode/json?'\n",
    "    response = requests.get(base_url, params=params)\n",
    "    data = response.json()\n",
    "    if data['status'] == 'OK':\n",
    "        result = data['results'][0]\n",
    "        location = result['geometry']['location']\n",
    "        return location['lat'], location['lng']\n",
    "    else:\n",
    "        return None, None\n",
    "    \n",
    "print(getCoord('Rabat'), getCoord(' Casablanca'))"
   ]
  },
  {
   "attachments": {},
   "cell_type": "markdown",
   "metadata": {},
   "source": [
    "FUNCTION: Returning weather information "
   ]
  },
  {
   "cell_type": "code",
   "execution_count": 60,
   "metadata": {},
   "outputs": [
    {
     "name": "stdout",
     "output_type": "stream",
     "text": [
      "{'lon': -7.0926, 'lat': 31.7917}\n",
      "light rain\n",
      "{'temp': 24.03, 'feels_like': 23.69, 'temp_min': 24.03, 'temp_max': 24.03, 'pressure': 1013, 'humidity': 46, 'sea_level': 1013, 'grnd_level': 932} °C et hPa\n",
      "2.19 m/s\n",
      "2023-06-04 06:23:12\n",
      "2023-06-04 20:30:22\n",
      "2023-06-04 15:25:26\n",
      "MA\n"
     ]
    }
   ],
   "source": [
    "import datetime as dt\n",
    "import requests\n",
    "\n",
    "\n",
    "def getWeath(address):\n",
    "\n",
    "    API_KEY = ''\n",
    "    \n",
    "    lat, lng=getCoord(address)\n",
    "    \n",
    "    params = {\n",
    "        'appid': API_KEY,\n",
    "        'lat': lat,\n",
    "        'lon':lng,\n",
    "        'units':'metric'\n",
    "    }\n",
    "\n",
    "    base_url = 'http://api.openweathermap.org/data/2.5/weather?'\n",
    "    response = requests.get(base_url, params=params)\n",
    "    data = response.json()\n",
    "    return data\n",
    "    \n",
    "def getTime(x,t):\n",
    "    return dt.datetime.utcfromtimestamp(x+t)\n",
    "\n",
    "t=getWeath('Maroc')\n",
    "\n",
    "timezone=t['timezone']\n",
    "\n",
    "#print(t)\n",
    "print(t['coord'])\n",
    "print(t['weather'][0]['description'])\n",
    "print(t['main'], '°C et hPa')\n",
    "print(t['wind']['speed'], 'm/s')\n",
    "print(getTime(t['sys']['sunrise'],timezone))\n",
    "print(getTime(t['sys']['sunset'],timezone))\n",
    "print(getTime(t['dt'],timezone))\n",
    "print(t['sys']['country'])\n"
   ]
  }
 ],
 "metadata": {
  "kernelspec": {
   "display_name": "Python 3",
   "language": "python",
   "name": "python3"
  },
  "language_info": {
   "codemirror_mode": {
    "name": "ipython",
    "version": 3
   },
   "file_extension": ".py",
   "mimetype": "text/x-python",
   "name": "python",
   "nbconvert_exporter": "python",
   "pygments_lexer": "ipython3",
   "version": "3.11.0"
  },
  "orig_nbformat": 4
 },
 "nbformat": 4,
 "nbformat_minor": 2
}
